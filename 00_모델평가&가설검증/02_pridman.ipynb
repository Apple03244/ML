{
 "cells": [
  {
   "cell_type": "code",
   "execution_count": 2,
   "metadata": {},
   "outputs": [],
   "source": [
    "from sklearn import linear_model as lin\n",
    "from sklearn import model_selection as mod\n",
    "from sklearn import pipeline as pip\n",
    "from sklearn import compose as com\n",
    "from sklearn import impute as imp\n",
    "from sklearn import preprocessing as pre\n",
    "from sklearn import metrics as met\n",
    "import numpy as np\n",
    "import pandas as pd\n",
    "\n",
    "titanic=pd.read_csv(\"../titanic/train.csv\")\n",
    "titanic.head(3)\n",
    "\n",
    "titanic_df=titanic.drop(columns=[\"PassengerId\",\"Name\",\"Ticket\",\"Cabin\"])\n",
    "obj_col=titanic_df.dropna().select_dtypes(\"object\").columns\n",
    "num_col=titanic_df.dropna().select_dtypes(np.number).columns.difference([\"Survived\"])\n",
    "label=\"Survived\"\n",
    "\n",
    "columns=titanic_df.columns.difference([label])\n",
    "\n",
    "num_pip=pip.make_pipeline(imp.SimpleImputer(strategy=\"mean\"),pre.StandardScaler())\n",
    "obj_pip=pip.make_pipeline(imp.SimpleImputer(strategy=\"most_frequent\"),pre.OneHotEncoder(drop=\"first\",handle_unknown=\"ignore\"))\n",
    "\n",
    "total_pip=com.make_column_transformer((num_pip,num_col),(obj_pip,obj_col),remainder=\"passthrough\")"
   ]
  },
  {
   "cell_type": "code",
   "execution_count": 3,
   "metadata": {},
   "outputs": [],
   "source": [
    "from sklearn import tree as tre\n",
    "\n",
    "method=lambda x: tre.DecisionTreeClassifier(max_depth=x)\n",
    "\n",
    "model_1=pip.make_pipeline(total_pip,method(None))\n",
    "model_2=pip.make_pipeline(total_pip,method(3))\n",
    "model_3=pip.make_pipeline(total_pip,method(5))"
   ]
  },
  {
   "cell_type": "code",
   "execution_count": 4,
   "metadata": {},
   "outputs": [],
   "source": [
    "loocv=mod.KFold(n_splits=len(titanic))\n",
    "result=[]\n",
    "for x1,x2 in loocv.split(titanic):\n",
    "    train=titanic.loc[x1]\n",
    "    test=titanic.loc[x2]\n",
    "    \n",
    "    pred_result=[]\n",
    "    for model in [model_1,model_2,model_3]:\n",
    "        model.fit(X=train[columns],y=train[label])\n",
    "        pred_y=model.predict(X=test[columns])\n",
    "        pred_result.append(pred_y)\n",
    "    \n",
    "    result.append(pred_result)"
   ]
  },
  {
   "cell_type": "code",
   "execution_count": 5,
   "metadata": {},
   "outputs": [],
   "source": [
    "from mlxtend import evaluate as eva"
   ]
  },
  {
   "cell_type": "code",
   "execution_count": 6,
   "metadata": {},
   "outputs": [],
   "source": [
    "model1_result=np.array([x[0] for x in result]).ravel()\n",
    "model2_result=np.array([x[1] for x in result]).ravel()\n",
    "model3_result=np.array([x[2] for x in result]).ravel()"
   ]
  },
  {
   "cell_type": "code",
   "execution_count": 7,
   "metadata": {},
   "outputs": [],
   "source": [
    "table_12=eva.mcnemar_table(y_target=titanic[label],y_model1=model1_result,y_model2=model2_result)\n",
    "table_23=eva.mcnemar_table(y_target=titanic[label],y_model1=model2_result,y_model2=model3_result)\n",
    "table_31=eva.mcnemar_table(y_target=titanic[label],y_model1=model3_result,y_model2=model1_result)"
   ]
  },
  {
   "cell_type": "code",
   "execution_count": 8,
   "metadata": {},
   "outputs": [],
   "source": [
    "contingency_tables=eva.mcnemar_tables(titanic[label],*[model1_result,model2_result,model3_result])"
   ]
  },
  {
   "cell_type": "code",
   "execution_count": 9,
   "metadata": {},
   "outputs": [
    {
     "name": "stdout",
     "output_type": "stream",
     "text": [
      "비교된 모델 : model_0 vs model_1\n",
      "[[640.  56.]\n",
      " [ 89. 106.]]\n",
      "비교된 모델 : model_0 vs model_2\n",
      "[[645.  51.]\n",
      " [ 84. 111.]]\n",
      "비교된 모델 : model_1 vs model_2\n",
      "[[723.   6.]\n",
      " [  6. 156.]]\n"
     ]
    }
   ],
   "source": [
    "for name in contingency_tables:\n",
    "    print(\"비교된 모델 :\",name)\n",
    "    print(contingency_tables[name])"
   ]
  },
  {
   "cell_type": "code",
   "execution_count": 10,
   "metadata": {},
   "outputs": [
    {
     "data": {
      "text/plain": [
       "dict_keys(['model_0 vs model_1', 'model_0 vs model_2', 'model_1 vs model_2'])"
      ]
     },
     "execution_count": 10,
     "metadata": {},
     "output_type": "execute_result"
    }
   ],
   "source": [
    "contingency_tables.keys()"
   ]
  },
  {
   "cell_type": "code",
   "execution_count": 11,
   "metadata": {},
   "outputs": [
    {
     "name": "stdout",
     "output_type": "stream",
     "text": [
      "비교 : model_0 vs model_1\n",
      "검정통계량 : 7.062068965517241\n",
      "pvalue : 0.007873301783060812\n",
      "비교 : model_0 vs model_2\n",
      "검정통계량 : 7.5851851851851855\n",
      "pvalue : 0.005884991805863098\n",
      "비교 : model_1 vs model_2\n",
      "검정통계량 : 0.08333333333333333\n",
      "pvalue : 0.7728299926844475\n"
     ]
    }
   ],
   "source": [
    "for name in contingency_tables:\n",
    "    statitic,pvalue=eva.mcnemar(contingency_tables[name])\n",
    "    print(\"비교 :\",name)\n",
    "    print(\"검정통계량 :\",statitic)\n",
    "    print(\"pvalue :\",pvalue)"
   ]
  },
  {
   "cell_type": "markdown",
   "metadata": {},
   "source": [
    "프리드만 검정"
   ]
  },
  {
   "cell_type": "code",
   "execution_count": 160,
   "metadata": {},
   "outputs": [],
   "source": [
    "kfold=mod.StratifiedKFold(n_splits=10,shuffle=True,random_state=1)\n",
    "result=[]\n",
    "for train_idx,test_idx in kfold.split(X=titanic[columns],y=titanic[label]):\n",
    "    train_X=titanic.loc[train_idx,columns]\n",
    "    train_y=titanic.loc[train_idx,label]\n",
    "    test_X=titanic.loc[test_idx,columns]\n",
    "    test_y=titanic.loc[test_idx,label]\n",
    "\n",
    "    model_1.fit(X=train_X,y=train_y)\n",
    "    model_2.fit(X=train_X,y=train_y)\n",
    "    model_3.fit(X=train_X,y=train_y)\n",
    "\n",
    "    acc_fun=lambda model : met.accuracy_score(y_true=test_y,y_pred=model.predict(test_X))\n",
    "    acc_list=[acc_fun(model) for model in [model_1,model_2,model_3]]\n",
    "\n",
    "    result.append(acc_list)"
   ]
  },
  {
   "cell_type": "code",
   "execution_count": 166,
   "metadata": {},
   "outputs": [],
   "source": [
    "n,k=np.array(result).shape"
   ]
  },
  {
   "cell_type": "code",
   "execution_count": 178,
   "metadata": {},
   "outputs": [
    {
     "name": "stdout",
     "output_type": "stream",
     "text": [
      "검정통계량 : 6.222222222222231\n",
      "p-value : 0.044551426244489496\n"
     ]
    }
   ],
   "source": [
    "from scipy import stats\n",
    "friedman_test=stats.friedmanchisquare(*np.array(result).T)\n",
    "print(\"검정통계량 :\",friedman_test.statistic)\n",
    "print(\"p-value :\",friedman_test.pvalue)"
   ]
  },
  {
   "cell_type": "code",
   "execution_count": 167,
   "metadata": {},
   "outputs": [],
   "source": [
    "rank_result=np.array([stats.rankdata(data) for data in result])"
   ]
  },
  {
   "cell_type": "code",
   "execution_count": 170,
   "metadata": {},
   "outputs": [
    {
     "data": {
      "text/plain": [
       "array([[1. , 2. , 3. ],\n",
       "       [1. , 2. , 3. ],\n",
       "       [3. , 1.5, 1.5],\n",
       "       [1. , 2.5, 2.5],\n",
       "       [3. , 1.5, 1.5],\n",
       "       [1. , 3. , 2. ],\n",
       "       [1. , 2. , 3. ],\n",
       "       [1. , 2. , 3. ],\n",
       "       [1. , 2.5, 2.5],\n",
       "       [1. , 3. , 2. ]])"
      ]
     },
     "execution_count": 170,
     "metadata": {},
     "output_type": "execute_result"
    }
   ],
   "source": [
    "rank_result"
   ]
  },
  {
   "cell_type": "code",
   "execution_count": 171,
   "metadata": {},
   "outputs": [],
   "source": [
    "n,k=np.array(result).shape"
   ]
  },
  {
   "cell_type": "code",
   "execution_count": 172,
   "metadata": {},
   "outputs": [],
   "source": [
    "Q = (12 / (n * k * (k + 1))) * np.sum(rank_result.sum(axis=0)**2) - 3 * n * (k + 1)"
   ]
  },
  {
   "cell_type": "code",
   "execution_count": 175,
   "metadata": {},
   "outputs": [
    {
     "data": {
      "text/plain": [
       "5.6000000000000085"
      ]
     },
     "execution_count": 175,
     "metadata": {},
     "output_type": "execute_result"
    }
   ],
   "source": [
    "Q"
   ]
  },
  {
   "cell_type": "code",
   "execution_count": 155,
   "metadata": {},
   "outputs": [
    {
     "name": "stdout",
     "output_type": "stream",
     "text": [
      "프리드만 검정 통계량 (Q): 6.0\n"
     ]
    }
   ],
   "source": [
    "import numpy as np\n",
    "from scipy.stats import rankdata\n",
    "\n",
    "# 예시 데이터 (각 샘플에 대해 그룹1, 그룹2, 그룹3의 값을 가진다)\n",
    "data = np.array([\n",
    "    [85, 90, 88],  # 샘플 1\n",
    "    [88, 95, 90],  # 샘플 2\n",
    "    [85, 92, 91]   # 샘플 3\n",
    "])\n",
    "\n",
    "# 1. 각 샘플 내에서 순위 부여 (동점 처리 포함)\n",
    "ranks = np.array([rankdata(row) for row in data])\n",
    "\n",
    "# 2. 각 그룹의 순위 합 계산\n",
    "rank_sums = np.sum(ranks, axis=0)\n",
    "\n",
    "# 3. 프리드만 검정 통계량 계산\n",
    "n, k = data.shape  # n은 샘플 수, k는 그룹 수\n",
    "Q = (12 / (n * k * (k + 1))) * np.sum(rank_sums**2) - 3 * n * (k + 1)\n",
    "\n",
    "print(f\"프리드만 검정 통계량 (Q): {Q}\")\n"
   ]
  },
  {
   "cell_type": "code",
   "execution_count": 179,
   "metadata": {},
   "outputs": [
    {
     "data": {
      "text/plain": [
       "array([[85, 88, 85],\n",
       "       [90, 95, 92],\n",
       "       [88, 90, 91]])"
      ]
     },
     "execution_count": 179,
     "metadata": {},
     "output_type": "execute_result"
    }
   ],
   "source": [
    "data.T"
   ]
  },
  {
   "cell_type": "code",
   "execution_count": 158,
   "metadata": {},
   "outputs": [
    {
     "data": {
      "text/plain": [
       "FriedmanchisquareResult(statistic=6.0, pvalue=0.04978706836786395)"
      ]
     },
     "execution_count": 158,
     "metadata": {},
     "output_type": "execute_result"
    }
   ],
   "source": [
    "stats.friedmanchisquare(*data.T)"
   ]
  },
  {
   "cell_type": "code",
   "execution_count": 132,
   "metadata": {},
   "outputs": [
    {
     "data": {
      "text/plain": [
       "0.56"
      ]
     },
     "execution_count": 132,
     "metadata": {},
     "output_type": "execute_result"
    }
   ],
   "source": [
    "sum((ri-((k+1)/2))**2)"
   ]
  },
  {
   "cell_type": "code",
   "execution_count": 15,
   "metadata": {},
   "outputs": [
    {
     "data": {
      "image/png": "[encoded data removed]",
      "text/plain": [
       "<Figure size 640x480 with 1 Axes>"
      ]
     },
     "metadata": {},
     "output_type": "display_data"
    }
   ],
   "source": [
    "from numpy import linspace\n",
    "from matplotlib import pyplot as plt\n",
    "\n",
    "x=linspace(1,50,50)\n",
    "df_list=[1,10,20,30]\n",
    "y_list=[(i,stats.chi2.pdf(x,df=i)) for i in df_list]\n",
    "\n",
    "for y in y_list:\n",
    "    plt.plot(x,y[1],label=f\"df={y[0]}\")\n",
    "plt.legend()\n",
    "plt.grid(axis=\"y\")"
   ]
  },
  {
   "cell_type": "code",
   "execution_count": 16,
   "metadata": {},
   "outputs": [],
   "source": [
    "from matplotlib import pyplot as plt\n",
    "\n",
    "plt.rcParams[\"font.family\"]=\"AppleGothic\"\n",
    "plt.rcParams[\"axes.unicode_minus\"]=False"
   ]
  },
  {
   "cell_type": "code",
   "execution_count": 17,
   "metadata": {},
   "outputs": [
    {
     "data": {
      "image/png": "[encoded data removed]",
      "text/plain": [
       "<Figure size 640x480 with 1 Axes>"
      ]
     },
     "metadata": {},
     "output_type": "display_data"
    }
   ],
   "source": [
    "for y in y_list:\n",
    "    plt.plot(x,y[1],label=f\"df={y[0]}\")\n",
    "plt.legend()\n",
    "plt.grid(axis=\"y\")"
   ]
  },
  {
   "cell_type": "code",
   "execution_count": 18,
   "metadata": {},
   "outputs": [
    {
     "data": {
      "text/plain": [
       "0.04451820272339232"
      ]
     },
     "execution_count": 18,
     "metadata": {},
     "output_type": "execute_result"
    }
   ],
   "source": [
    "stats.chi2.sf(17.279260780287473,df=9)"
   ]
  },
  {
   "cell_type": "code",
   "execution_count": 180,
   "metadata": {},
   "outputs": [
    {
     "data": {
      "image/png": "[encoded data removed]",
      "text/plain": [
       "<Figure size 640x480 with 1 Axes>"
      ]
     },
     "metadata": {},
     "output_type": "display_data"
    }
   ],
   "source": [
    "from scipy import optimize as opt\n",
    "from scipy import stats as st\n",
    "df=3-1\n",
    "def opt_chi(stats,df=df):\n",
    "    return st.chi2.sf(stats,df)-0.05\n",
    "\n",
    "if opt.root_scalar(opt_chi,bracket=[1,100]).converged:\n",
    "    root=opt.root_scalar(opt_chi,bracket=[1,100]).root\n",
    "\n",
    "x=linspace(1,20,20)\n",
    "y=st.chi2.pdf(x,df=df)\n",
    "\n",
    "x_=linspace(root,20,20-int(root))\n",
    "y_=st.chi2.pdf(x_,df=df)\n",
    "\n",
    "plt.plot(x,y,label=f\"df={df}\")\n",
    "plt.fill_between(x_,y1=y_,y2=0,color=\"red\",label=f\"stats >= 약 {round(root,2)}\")\n",
    "plt.legend()\n",
    "plt.grid(axis=\"y\")"
   ]
  },
  {
   "cell_type": "code",
   "execution_count": 20,
   "metadata": {},
   "outputs": [
    {
     "data": {
      "text/plain": [
       "      converged: True\n",
       "           flag: converged\n",
       " function_calls: 14\n",
       "     iterations: 13\n",
       "           root: 16.91897760462045\n",
       "         method: brentq"
      ]
     },
     "execution_count": 20,
     "metadata": {},
     "output_type": "execute_result"
    }
   ],
   "source": [
    "opt.root_scalar(opt_chi,bracket=[1,100])"
   ]
  },
  {
   "cell_type": "code",
   "execution_count": 21,
   "metadata": {},
   "outputs": [
    {
     "data": {
      "text/plain": [
       "0.050000000000000024"
      ]
     },
     "execution_count": 21,
     "metadata": {},
     "output_type": "execute_result"
    }
   ],
   "source": [
    "st.chi2.sf(16.918977604620448,9)"
   ]
  },
  {
   "cell_type": "code",
   "execution_count": 22,
   "metadata": {},
   "outputs": [],
   "source": [
    "x=linspace(1,20,20)\n",
    "y=st.chi2.pdf(x,df=df)"
   ]
  },
  {
   "cell_type": "code",
   "execution_count": 181,
   "metadata": {},
   "outputs": [
    {
     "name": "stdout",
     "output_type": "stream",
     "text": [
      "모델1의 평균 : 1.4 \n",
      "모델2의 평균 : 2.2 \n",
      "모델3의 평균 : 2.4 \n",
      "\n",
      "          0         1         2\n",
      "0  1.000000  0.173535  0.065303\n",
      "1  0.173535  1.000000  0.887683\n",
      "2  0.065303  0.887683  1.000000\n"
     ]
    }
   ],
   "source": [
    "import scikit_posthocs as sp\n",
    "from scipy.stats import rankdata\n",
    "\n",
    "# def rank_rule(ls:list):\n",
    "#     temp_ls=ls.copy()\n",
    "#     temp_ls.sort()\n",
    "\n",
    "#     def tied_rank(sorted_list):\n",
    "#         return {x:np.array([rank+1 for rank,num in enumerate(sorted_list) if num==x]).mean() for x in set(sorted_list)}\n",
    "    \n",
    "#     rank_result=tied_rank(temp_ls)\n",
    "#     return [rank_result[num] for num in ls]\n",
    "\n",
    "rank_result=np.array([rankdata(rs) for rs in result])\n",
    "model_0_mean=rank_result[:,0].mean()\n",
    "model_1_mean=rank_result[:,1].mean()\n",
    "model_2_mean=rank_result[:,2].mean()\n",
    "\n",
    "print(\"모델1의 평균 :\",model_0_mean,\"\\n모델2의 평균 :\",model_1_mean,\"\\n모델3의 평균 :\",model_2_mean,\"\\n\") \n",
    "print(sp.posthoc_nemenyi_friedman(result))"
   ]
  },
  {
   "cell_type": "code",
   "execution_count": 89,
   "metadata": {},
   "outputs": [
    {
     "data": {
      "text/html": [
       "<div>\n",
       "<style scoped>\n",
       "    .dataframe tbody tr th:only-of-type {\n",
       "        vertical-align: middle;\n",
       "    }\n",
       "\n",
       "    .dataframe tbody tr th {\n",
       "        vertical-align: top;\n",
       "    }\n",
       "\n",
       "    .dataframe thead th {\n",
       "        text-align: right;\n",
       "    }\n",
       "</style>\n",
       "<table border=\"1\" class=\"dataframe\">\n",
       "  <thead>\n",
       "    <tr style=\"text-align: right;\">\n",
       "      <th></th>\n",
       "      <th>0</th>\n",
       "      <th>1</th>\n",
       "      <th>2</th>\n",
       "    </tr>\n",
       "  </thead>\n",
       "  <tbody>\n",
       "    <tr>\n",
       "      <th>0</th>\n",
       "      <td>1.000000</td>\n",
       "      <td>0.173535</td>\n",
       "      <td>0.065303</td>\n",
       "    </tr>\n",
       "    <tr>\n",
       "      <th>1</th>\n",
       "      <td>0.173535</td>\n",
       "      <td>1.000000</td>\n",
       "      <td>0.887683</td>\n",
       "    </tr>\n",
       "    <tr>\n",
       "      <th>2</th>\n",
       "      <td>0.065303</td>\n",
       "      <td>0.887683</td>\n",
       "      <td>1.000000</td>\n",
       "    </tr>\n",
       "  </tbody>\n",
       "</table>\n",
       "</div>"
      ],
      "text/plain": [
       "          0         1         2\n",
       "0  1.000000  0.173535  0.065303\n",
       "1  0.173535  1.000000  0.887683\n",
       "2  0.065303  0.887683  1.000000"
      ]
     },
     "execution_count": 89,
     "metadata": {},
     "output_type": "execute_result"
    }
   ],
   "source": [
    "sp."
   ]
  },
  {
   "cell_type": "code",
   "execution_count": 70,
   "metadata": {},
   "outputs": [],
   "source": [
    "def rank_rule(ls:list):\n",
    "    temp_ls=ls.copy()\n",
    "    temp_ls.sort()\n",
    "\n",
    "    def tied_rank(sorted_list):\n",
    "        return {x:np.array([rank+1 for rank,num in enumerate(sorted_list) if num==x]).mean() for x in set(sorted_list)}\n",
    "    \n",
    "    rank_result=tied_rank(temp_ls)\n",
    "    return [rank_result[num] for num in ls]"
   ]
  },
  {
   "cell_type": "code",
   "execution_count": 67,
   "metadata": {},
   "outputs": [],
   "source": [
    "def tied_rank(sorted_list):\n",
    "    return {x:np.array([rank+1 for rank,num in enumerate(sorted_list) if num==x]).mean() for x in set(sorted_list)}"
   ]
  },
  {
   "cell_type": "code",
   "execution_count": 82,
   "metadata": {},
   "outputs": [
    {
     "data": {
      "text/plain": [
       "2.2"
      ]
     },
     "execution_count": 82,
     "metadata": {},
     "output_type": "execute_result"
    }
   ],
   "source": [
    "np.array([rank_rule(rs) for rs in result])[:,1].mean()"
   ]
  },
  {
   "cell_type": "code",
   "execution_count": 60,
   "metadata": {},
   "outputs": [
    {
     "data": {
      "text/plain": [
       "[(0, 1), (1, 2), (2, 3), (3, 5), (4, 5)]"
      ]
     },
     "execution_count": 60,
     "metadata": {},
     "output_type": "execute_result"
    }
   ],
   "source": [
    "test=[2,1,3,5,5]\n",
    "test.sort()\n",
    "list(enumerate(test))"
   ]
  },
  {
   "cell_type": "code",
   "execution_count": 35,
   "metadata": {},
   "outputs": [],
   "source": [
    "model_0_mean=np.array(result)[:,0].mean()\n",
    "model_1_mean=np.array(result)[:,1].mean()\n",
    "model_2_mean=np.array(result)[:,2].mean()"
   ]
  },
  {
   "cell_type": "code",
   "execution_count": 38,
   "metadata": {},
   "outputs": [
    {
     "name": "stdout",
     "output_type": "stream",
     "text": [
      "0.7654556803995007 0.8103370786516854 0.8080774032459426\n"
     ]
    }
   ],
   "source": [
    "print(model_0_mean,model_1_mean,model_2_mean) "
   ]
  },
  {
   "cell_type": "code",
   "execution_count": 96,
   "metadata": {},
   "outputs": [
    {
     "data": {
      "text/plain": [
       "FriedmanchisquareResult(statistic=6.222222222222231, pvalue=0.044551426244489496)"
      ]
     },
     "execution_count": 96,
     "metadata": {},
     "output_type": "execute_result"
    }
   ],
   "source": [
    "st.friedmanchisquare(*np.array(result).T)"
   ]
  },
  {
   "cell_type": "code",
   "execution_count": 99,
   "metadata": {},
   "outputs": [
    {
     "ename": "TypeError",
     "evalue": "scikit_posthocs._posthocs.posthoc_nemenyi_friedman() argument after ** must be a mapping, not numpy.ndarray",
     "output_type": "error",
     "traceback": [
      "\u001b[0;31m---------------------------------------------------------------------------\u001b[0m",
      "\u001b[0;31mTypeError\u001b[0m                                 Traceback (most recent call last)",
      "Cell \u001b[0;32mIn[99], line 1\u001b[0m\n\u001b[0;32m----> 1\u001b[0m sp\u001b[38;5;241m.\u001b[39mposthoc_nemenyi_friedman(\u001b[38;5;241m*\u001b[39m\u001b[38;5;241m*\u001b[39mnp\u001b[38;5;241m.\u001b[39marray(result)\u001b[38;5;241m.\u001b[39mT)\n",
      "\u001b[0;31mTypeError\u001b[0m: scikit_posthocs._posthocs.posthoc_nemenyi_friedman() argument after ** must be a mapping, not numpy.ndarray"
     ]
    }
   ],
   "source": [
    "sp.posthoc_nemenyi_friedman(**np.array(result).T)"
   ]
  },
  {
   "cell_type": "code",
   "execution_count": null,
   "metadata": {},
   "outputs": [],
   "source": []
  }
 ],
 "metadata": {
  "kernelspec": {
   "display_name": "Python 3",
   "language": "python",
   "name": "python3"
  },
  "language_info": {
   "codemirror_mode": {
    "name": "ipython",
    "version": 3
   },
   "file_extension": ".py",
   "mimetype": "text/x-python",
   "name": "python",
   "nbconvert_exporter": "python",
   "pygments_lexer": "ipython3",
   "version": "3.11.8"
  }
 },
 "nbformat": 4,
 "nbformat_minor": 2
}
